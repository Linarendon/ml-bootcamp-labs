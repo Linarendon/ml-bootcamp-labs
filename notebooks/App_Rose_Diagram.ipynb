{
 "cells": [
  {
   "cell_type": "code",
   "execution_count": null,
   "id": "16f97b88",
   "metadata": {},
   "outputs": [],
   "source": [
    "# App_Rose_Diagram_Jupyter.ipynb (versión Jupyter con ipywidgets)\n",
    "\n",
    "import pandas as pd\n",
    "import matplotlib.pyplot as plt\n",
    "from windrose import WindroseAxes\n",
    "#import itertools\n",
    "import ipywidgets as widgets\n",
    "#from IPython.display import display, clear_output"
   ]
  },
  {
   "cell_type": "code",
   "execution_count": null,
   "id": "7494d569",
   "metadata": {},
   "outputs": [],
   "source": [
    "# --- Cargar datos ---\n",
    "RUTA_CSV = '/workspaces/ml-bootcamp-labs/data/raw/DATOS_DIAGRAMA_ROSA_UNIFICADO.csv'\n",
    "df = pd.read_csv(RUTA_CSV, sep=';')"
   ]
  },
  {
   "cell_type": "code",
   "execution_count": null,
   "id": "98f6c72f",
   "metadata": {},
   "outputs": [],
   "source": [
    "# --- Rangos por pozo ---\n",
    "rangos_pozo = (\n",
    "    df.groupby('wellName', as_index=False)['TDEP-ft']\n",
    "      .agg(prof_min='min', prof_max='max')\n",
    "      .sort_values('wellName')\n",
    ")\n",
    "print(\"📊 Rangos por pozo (ft):\")\n",
    "display(rangos_pozo)\n",
    "\n",
    "if 'Type' in df.columns:\n",
    "    rangos_pozo_tipo = (\n",
    "        df.groupby(['wellName', 'Type'], as_index=False)['TDEP-ft']\n",
    "          .agg(prof_min='min', prof_max='max')\n",
    "          .sort_values(['wellName', 'Type'])\n",
    "    )\n",
    "    print(\"📊 Rangos por pozo y tipo (ft):\")\n",
    "    display(rangos_pozo_tipo)"
   ]
  },
  {
   "cell_type": "code",
   "execution_count": null,
   "id": "aae9b95d",
   "metadata": {},
   "outputs": [],
   "source": [
    "# --- Widgets de selección ---\n",
    "pozos = sorted(df['wellName'].dropna().unique())\n",
    "pozo_sel = widgets.Dropdown(options=pozos, description=\"Pozo:\")\n",
    "\n",
    "def update_tipo_options(*args):\n",
    "    tipos = sorted(df.loc[df['wellName'] == pozo_sel.value, 'Type'].dropna().unique())\n",
    "    tipo_sel.options = tipos\n",
    "\n",
    "tipo_sel = widgets.Dropdown(description=\"Tipo:\")\n",
    "pozo_sel.observe(update_tipo_options, names='value')\n",
    "update_tipo_options()"
   ]
  },
  {
   "cell_type": "code",
   "execution_count": null,
   "id": "5827eec4",
   "metadata": {},
   "outputs": [],
   "source": [
    "# Entradas de profundidad (valores por defecto luego de elegir pozo+tipo)\n",
    "prof_min_input = widgets.FloatText(description=\"Prof Min (ft):\")\n",
    "prof_max_input = widgets.FloatText(description=\"Prof Max (ft):\")\n",
    "\n",
    "def update_prof_range(*args):\n",
    "    df_tmp = df[(df['wellName'] == pozo_sel.value) & (df['Type'] == tipo_sel.value)]\n",
    "    if not df_tmp.empty:\n",
    "        prof_min = float(df_tmp['TDEP-ft'].min())\n",
    "        prof_max = float(df_tmp['TDEP-ft'].max())\n",
    "        prof_min_input.value = prof_min\n",
    "        prof_max_input.value = prof_max\n",
    "\n",
    "tipo_sel.observe(update_prof_range, names='value')\n",
    "pozo_sel.observe(update_prof_range, names='value')\n",
    "update_prof_range()"
   ]
  },
  {
   "cell_type": "code",
   "execution_count": null,
   "id": "211f7a54",
   "metadata": {},
   "outputs": [],
   "source": [
    "# Número de bins\n",
    "bins_slider = widgets.IntSlider(value=8, min=4, max=36, description=\"Bins:\")"
   ]
  },
  {
   "cell_type": "code",
   "execution_count": null,
   "id": "0d5889fc",
   "metadata": {},
   "outputs": [],
   "source": [
    "# Paletas de colores\n",
    "paletas = {\n",
    "    'Clásico Geológico': ['#003f5c', '#58508d', '#bc5090', '#ff6361', '#ffa600'],\n",
    "    'Elegante': ['#264653', '#2a9d8f', '#e9c46a', '#f4a261', '#e76f51'],\n",
    "    'Marino/Terrestre': ['#00429d', '#4771b2', '#73a2c6', '#a5d5d8', '#f6f5f5']\n",
    "}\n",
    "paleta_sel = widgets.Dropdown(options=list(paletas.keys()), value='Clásico Geológico', description=\"Paleta:\")\n"
   ]
  },
  {
   "cell_type": "code",
   "execution_count": null,
   "id": "07a456c5",
   "metadata": {},
   "outputs": [],
   "source": [
    "# Modo\n",
    "modo_sel = widgets.RadioButtons(\n",
    "    options=[\"Orientaciones puras (solo azimut)\", \"Orientaciones + clasificación por dip\"],\n",
    "    description=\"Modo:\"\n",
    ")"
   ]
  },
  {
   "cell_type": "code",
   "execution_count": null,
   "id": "a1214bac",
   "metadata": {},
   "outputs": [],
   "source": [
    "# Botón para generar\n",
    "btn = widgets.Button(description=\"Generar diagrama\", button_style=\"success\")"
   ]
  },
  {
   "cell_type": "code",
   "execution_count": null,
   "id": "caec8b03",
   "metadata": {},
   "outputs": [],
   "source": [
    "# --- Función para graficar ---\n",
    "def generar_diagrama(b):\n",
    "    clear_output(wait=True)\n",
    "    display(ui)  # vuelve a mostrar UI\n",
    "    \n",
    "    df_tmp = df[(df['wellName'] == pozo_sel.value) & (df['Type'] == tipo_sel.value)]\n",
    "    if df_tmp.empty:\n",
    "        print(\"⚠️ No hay datos para esta selección.\")\n",
    "        return\n",
    "\n",
    "    # Filtrado por profundidades\n",
    "    df_f = df_tmp[\n",
    "        (df_tmp['TDEP-ft'] >= prof_min_input.value) &\n",
    "        (df_tmp['TDEP-ft'] <= prof_max_input.value)\n",
    "    ]\n",
    "\n",
    "    if df_f.empty:\n",
    "        print(\"⚠️ No hay datos en el rango de profundidad.\")\n",
    "        return"
   ]
  },
  {
   "cell_type": "code",
   "execution_count": null,
   "id": "5c5d5444",
   "metadata": {},
   "outputs": [],
   "source": [
    "  # Preparar colores\n",
    "    colores = paletas[paleta_sel.value]\n",
    "    colores_final = list(itertools.islice(itertools.cycle(colores), bins_slider.value))"
   ]
  },
  {
   "cell_type": "code",
   "execution_count": null,
   "id": "48610483",
   "metadata": {},
   "outputs": [],
   "source": [
    "    # Gráfico\n",
    "    fig = plt.figure(figsize=(7, 7))\n",
    "    ax = WindroseAxes.from_ax(fig=fig)\n",
    "\n",
    "    if modo_sel.value == \"Orientaciones puras (solo azimut)\":\n",
    "        ax.bar(\n",
    "            df_f['Azimuth-dega'],\n",
    "            [1]*len(df_f),\n",
    "            bins=bins_slider.value,\n",
    "            normed=True,\n",
    "            opening=0.8,\n",
    "            edgecolor='black',\n",
    "            colors=colores_final\n",
    "        )\n",
    "        ax.set_legend(title=\"Frecuencia (%)\", loc='lower right', bbox_to_anchor=(1.2, 0.1))\n",
    "        plt.title(f\"Diagrama de Rosa (Orientaciones)\\n{pozo_sel.value} - {tipo_sel.value}\\n{prof_min_input.value:.2f}–{prof_max_input.value:.2f} ft\")\n",
    "\n",
    "    else:\n",
    "        ax.bar(\n",
    "            df_f['Azimuth-dega'],\n",
    "            df_f['Dip_dega'],\n",
    "            bins=bins_slider.value,\n",
    "            normed=True,\n",
    "            opening=0.8,\n",
    "            edgecolor='black',\n",
    "            colors=colores_final\n",
    "        )\n",
    "        ax.set_legend(title=\"Frecuencia (%)\", loc='lower right', bbox_to_anchor=(1.2, 0.1))\n",
    "        plt.title(f\"Diagrama de Rosa (Orientaciones + Dip)\\n{pozo_sel.value} - {tipo_sel.value}\\n{prof_min_input.value:.2f}–{prof_max_input.value:.2f} ft\")\n",
    "\n",
    "    plt.show()\n",
    "\n",
    "btn.on_click(generar_diagrama)"
   ]
  },
  {
   "cell_type": "code",
   "execution_count": null,
   "id": "5ce7e668",
   "metadata": {},
   "outputs": [],
   "source": [
    "# --- Interfaz ---\n",
    "ui = widgets.VBox([\n",
    "    pozo_sel, tipo_sel,\n",
    "    prof_min_input, prof_max_input,\n",
    "    bins_slider, paleta_sel, modo_sel,\n",
    "    btn\n",
    "])\n",
    "display(ui)"
   ]
  }
 ],
 "metadata": {
  "kernelspec": {
   "display_name": "Python 3",
   "language": "python",
   "name": "python3"
  },
  "language_info": {
   "codemirror_mode": {
    "name": "ipython",
    "version": 3
   },
   "file_extension": ".py",
   "mimetype": "text/x-python",
   "name": "python",
   "nbconvert_exporter": "python",
   "pygments_lexer": "ipython3",
   "version": "3.11.13"
  }
 },
 "nbformat": 4,
 "nbformat_minor": 5
}
