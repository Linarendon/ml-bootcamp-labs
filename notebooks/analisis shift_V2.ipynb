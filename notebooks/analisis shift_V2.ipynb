{
 "cells": [
  {
   "cell_type": "code",
   "execution_count": 15,
   "id": "0cb6b774",
   "metadata": {},
   "outputs": [],
   "source": [
    "# --- Librerías ---\n",
    "import pandas as pd\n",
    "import numpy as np\n",
    "import matplotlib.pyplot as plt\n",
    "import seaborn as sns\n",
    "import ipywidgets as widgets\n",
    "from ipywidgets import interact"
   ]
  },
  {
   "cell_type": "code",
   "execution_count": 42,
   "id": "5c201e6c",
   "metadata": {},
   "outputs": [],
   "source": [
    "# --- Cargar archivo CSV ---\n",
    "RUTA = '/workspaces/ml-bootcamp-labs/data/raw/Shift_Pozos_LDiscEoc-cvs.csv'\n",
    "df = pd.read_csv(RUTA, sep=\";\")"
   ]
  },
  {
   "cell_type": "code",
   "execution_count": 43,
   "id": "d6009945",
   "metadata": {},
   "outputs": [
    {
     "name": "stdout",
     "output_type": "stream",
     "text": [
      "['Well ID', 'UWI', 'Common Well Name', 'X', 'Y', 'Pick Name', 'Pick Z', 'Nearest Node Z', 'Surface Intersection Z', 'Delta', 'Delta Reverse', 'Absolute Delta', 'Interpreter Id', 'Observation #']\n"
     ]
    }
   ],
   "source": [
    "# Verifica nombres de columnas disponibles\n",
    "print(df.columns.tolist())"
   ]
  },
  {
   "cell_type": "code",
   "execution_count": 44,
   "id": "0be80d33",
   "metadata": {},
   "outputs": [],
   "source": [
    "# --- Función de estadísticos personalizados ---\n",
    "def stats(x):\n",
    "    return pd.Series({\n",
    "        'count': x.count(),\n",
    "        'mean': x.mean(),\n",
    "        'std': x.std(),\n",
    "        'min': x.min(),\n",
    "        'p10': np.percentile(x, 10),\n",
    "        'p50': np.percentile(x, 50),\n",
    "        'p90': np.percentile(x, 90),\n",
    "        'max': x.max()\n",
    "    })"
   ]
  },
  {
   "cell_type": "code",
   "execution_count": 48,
   "id": "83550fc5",
   "metadata": {},
   "outputs": [
    {
     "name": "stdout",
     "output_type": "stream",
     "text": [
      "\n",
      "Estadísticos generales de 'Delta':\n",
      "count    122.000000\n",
      "mean       6.749800\n",
      "std      146.858049\n",
      "min     -328.943573\n",
      "10%     -178.887060\n",
      "50%        6.945914\n",
      "90%      166.233730\n",
      "max      791.108127\n",
      "Name: Delta, dtype: float64\n"
     ]
    }
   ],
   "source": [
    "# --- Estadísticos globales ---\n",
    "print(\"\\nEstadísticos generales de 'Delta':\")\n",
    "print(df['Delta'].describe(percentiles=[0.1, 0.5, 0.9]))"
   ]
  },
  {
   "cell_type": "code",
   "execution_count": 49,
   "id": "e892fe30",
   "metadata": {},
   "outputs": [],
   "source": [
    "# --- Función principal de análisis ---\n",
    "def analisis(grupo_por, pozo):\n",
    "    # Agrupación según selección\n",
    "    stats_group = df.groupby(grupo_por)['Delta'].apply(stats).reset_index()\n",
    "    \n",
    "    # Mostrar tabla completa\n",
    "    display(stats_group)\n",
    "    \n",
    "    # Filtrar pozo seleccionado\n",
    "    if pozo in df[grupo_por].unique():\n",
    "        df_pozo = df[df[grupo_por] == pozo]\n",
    "        print(f\"\\nEstadísticos detallados para {grupo_por} = {pozo}:\")\n",
    "        print(stats(df_pozo['Delta']))\n",
    "        \n",
    "        # Histograma + KDE\n",
    "        plt.figure(figsize=(10,6))\n",
    "        sns.histplot(df_pozo['Delta'], kde=True, bins=20, color=\"steelblue\")\n",
    "        plt.title(f\"Histograma de Delta - {pozo}\")\n",
    "        plt.show()\n",
    "        \n",
    "        # Boxplot comparativo\n",
    "        plt.figure(figsize=(10,6))\n",
    "        sns.boxplot(x=grupo_por, y='Delta', data=df[df[grupo_por].isin([pozo])])\n",
    "        plt.title(f\"Boxplot de Delta - {pozo}\")\n",
    "        plt.show()\n",
    "    \n",
    "    # Mapa espacial\n",
    "    plt.figure(figsize=(8,6))\n",
    "    sc = plt.scatter(df['x'], df['y'], c=df['Delta'], cmap='coolwarm', s=80, edgecolor='k')\n",
    "    plt.colorbar(sc, label=\"Delta\")\n",
    "    plt.xlabel(\"X\")\n",
    "    plt.ylabel(\"Y\")\n",
    "    plt.title(\"Distribución espacial de Delta\")\n",
    "    plt.show()\n"
   ]
  },
  {
   "cell_type": "code",
   "execution_count": 51,
   "id": "37c6b626",
   "metadata": {},
   "outputs": [
    {
     "name": "stdout",
     "output_type": "stream",
     "text": [
      "['Well ID', 'UWI', 'Common Well Name', 'X', 'Y', 'Pick Name', 'Pick Z', 'Nearest Node Z', 'Surface Intersection Z', 'Delta', 'Delta Reverse', 'Absolute Delta', 'Interpreter Id', 'Observation #']\n"
     ]
    }
   ],
   "source": [
    "# Verifica nombres de columnas disponibles\n",
    "print(df.columns.tolist())"
   ]
  },
  {
   "cell_type": "code",
   "execution_count": 52,
   "id": "59979b71",
   "metadata": {},
   "outputs": [
    {
     "data": {
      "text/plain": [
       "<Figure size 800x600 with 0 Axes>"
      ]
     },
     "metadata": {},
     "output_type": "display_data"
    },
    {
     "data": {
      "application/vnd.jupyter.widget-view+json": {
       "model_id": "c2f6159b71b246b7b66bb42f52b2ffc1",
       "version_major": 2,
       "version_minor": 0
      },
      "text/plain": [
       "interactive(children=(Dropdown(description='Agrupar por:', options=('UWI', 'Common Well Name'), value='UWI'), …"
      ]
     },
     "metadata": {},
     "output_type": "display_data"
    },
    {
     "data": {
      "text/plain": [
       "<function __main__.analisis(grupo_por, pozo)>"
      ]
     },
     "execution_count": 52,
     "metadata": {},
     "output_type": "execute_result"
    },
    {
     "data": {
      "text/plain": [
       "<Figure size 800x600 with 0 Axes>"
      ]
     },
     "metadata": {},
     "output_type": "display_data"
    },
    {
     "data": {
      "text/plain": [
       "<Figure size 800x600 with 0 Axes>"
      ]
     },
     "metadata": {},
     "output_type": "display_data"
    }
   ],
   "source": [
    "# --- Widgets ---\n",
    "grupo_selector = widgets.Dropdown(\n",
    "    options=['UWI', 'Common Well Name'],\n",
    "    value='UWI',\n",
    "    description='Agrupar por:'\n",
    ")\n",
    "\n",
    "pozo_selector = widgets.Dropdown(\n",
    "    options=df['UWI'].dropna().unique(),\n",
    "    description='Pozo:'\n",
    ")\n",
    "\n",
    "# Actualizar opciones de pozos según grupo seleccionado\n",
    "def update_pozo_options(*args):\n",
    "    pozo_selector.options = df[grupo_selector.value].dropna().unique()\n",
    "\n",
    "grupo_selector.observe(update_pozo_options, 'value')\n",
    "\n",
    "# --- Interacción ---\n",
    "interact(analisis, grupo_por=grupo_selector, pozo=pozo_selector)"
   ]
  }
 ],
 "metadata": {
  "kernelspec": {
   "display_name": "Python 3",
   "language": "python",
   "name": "python3"
  },
  "language_info": {
   "codemirror_mode": {
    "name": "ipython",
    "version": 3
   },
   "file_extension": ".py",
   "mimetype": "text/x-python",
   "name": "python",
   "nbconvert_exporter": "python",
   "pygments_lexer": "ipython3",
   "version": "3.12.1"
  }
 },
 "nbformat": 4,
 "nbformat_minor": 5
}
