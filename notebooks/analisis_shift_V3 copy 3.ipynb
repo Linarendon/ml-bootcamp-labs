{
 "cells": [
  {
   "cell_type": "code",
   "execution_count": 2,
   "id": "5c1c5822",
   "metadata": {},
   "outputs": [
    {
     "data": {
      "application/vnd.jupyter.widget-view+json": {
       "model_id": "2e8cbe880f864a8d80d399c797fac421",
       "version_major": 2,
       "version_minor": 0
      },
      "text/plain": [
       "interactive(children=(SelectMultiple(description='Pozos:', layout=Layout(height='200px', width='50%'), options…"
      ]
     },
     "metadata": {},
     "output_type": "display_data"
    },
    {
     "data": {
      "text/plain": [
       "<function __main__.analisis(pozos_seleccionados)>"
      ]
     },
     "execution_count": 2,
     "metadata": {},
     "output_type": "execute_result"
    }
   ],
   "source": [
    "# --- Librerías ---\n",
    "import pandas as pd\n",
    "import numpy as np\n",
    "import matplotlib.pyplot as plt\n",
    "import seaborn as sns\n",
    "import ipywidgets as widgets\n",
    "from ipywidgets import interact, Layout\n",
    "\n",
    "# --- Cargar archivo CSV ---\n",
    "RUTA = '/workspaces/ml-bootcamp-labs/data/raw/Shift_Pozos_LDiscEoc-cvs.csv'\n",
    "df = pd.read_csv(RUTA, sep=';')\n",
    "\n",
    "# Normalizar nombres de columnas\n",
    "df.columns = df.columns.str.strip().str.lower()\n",
    "\n",
    "# Columnas clave\n",
    "col_delta = 'delta'\n",
    "col_abs_delta = 'absolute delta'\n",
    "col_x = 'x'\n",
    "col_y = 'y'\n",
    "col_pickz = 'pick z'\n",
    "\n",
    "# --- Función de estadísticos personalizados ---\n",
    "def stats(x):\n",
    "    return pd.Series({\n",
    "        'count': x.count(),\n",
    "        'mean': x.mean(),\n",
    "        'std': x.std(),\n",
    "        'min': x.min(),\n",
    "        'p10': np.percentile(x, 10),\n",
    "        'p25': np.percentile(x, 25),\n",
    "        'p50': np.percentile(x, 50),\n",
    "        'p75': np.percentile(x, 75),\n",
    "        'p90': np.percentile(x, 90),\n",
    "        'max': x.max()\n",
    "    })\n",
    "\n",
    "# --- Función principal de análisis ---\n",
    "def analisis(pozos_seleccionados):\n",
    "    if not pozos_seleccionados:\n",
    "        print(\"Selecciona al menos un pozo.\")\n",
    "        return\n",
    "    \n",
    "    # Filtrar pozos seleccionados\n",
    "    df_sel = df[df['uwi'].isin(pozos_seleccionados)]\n",
    "    \n",
    "    # Estadísticos agregados por pozo\n",
    "    stats_group = df_sel.groupby('uwi')[col_delta].apply(stats).reset_index()\n",
    "    display(stats_group)\n",
    "    \n",
    "    # --- Histogramas por pozo ---\n",
    "    plt.figure(figsize=(10,6))\n",
    "    sns.histplot(data=df_sel, x=col_delta, hue='uwi', multiple='stack', bins=20)\n",
    "    plt.title(\"Histograma de Delta por Pozo\")\n",
    "    plt.xlabel(\"Delta\")\n",
    "    plt.ylabel(\"Frecuencia\")\n",
    "    plt.show()\n",
    "    \n",
    "    # --- Boxplot por pozo ---\n",
    "    plt.figure(figsize=(10,6))\n",
    "    sns.boxplot(x='uwi', y=col_delta, data=df_sel)\n",
    "    plt.title(\"Boxplot de Delta por Pozo\")\n",
    "    plt.xlabel(\"Pozo (UWI)\")\n",
    "    plt.ylabel(\"Delta\")\n",
    "    plt.show()\n",
    "    \n",
    "    # --- Violin plot por pozo ---\n",
    "    plt.figure(figsize=(10,6))\n",
    "    sns.violinplot(x='uwi', y=col_delta, data=df_sel)\n",
    "    plt.title(\"Violin plot de Delta por Pozo\")\n",
    "    plt.xlabel(\"Pozo (UWI)\")\n",
    "    plt.ylabel(\"Delta\")\n",
    "    plt.show()\n",
    "    \n",
    "    # --- Mapa espacial ---\n",
    "    plt.figure(figsize=(8,6))\n",
    "    sc = plt.scatter(df_sel[col_x], df_sel[col_y], c=df_sel[col_delta], cmap='RdBu', s=60, edgecolor='k')\n",
    "    plt.colorbar(sc, label=\"Delta\")\n",
    "    plt.title(\"Distribución espacial de Delta\")\n",
    "    plt.xlabel(\"X\")\n",
    "    plt.ylabel(\"Y\")\n",
    "    plt.show()\n",
    "    \n",
    "    # --- Delta vs Pick Z ---\n",
    "    plt.figure(figsize=(8,6))\n",
    "    sns.scatterplot(x=df_sel[col_pickz], y=df_sel[col_delta], hue=df_sel['uwi'])\n",
    "    plt.title(\"Delta vs Profundidad (Pick Z)\")\n",
    "    plt.xlabel(\"Pick Z\")\n",
    "    plt.ylabel(\"Delta\")\n",
    "    plt.axhline(0, color='red', linestyle='--')\n",
    "    plt.show()\n",
    "    \n",
    "    # --- Exportar estadísticas ---\n",
    "    stats_group.to_excel(\"estadisticas_shifts_por_pozos.xlsx\", index=False)\n",
    "    print(\"Archivo 'estadisticas_shifts_por_pozos.xlsx' exportado con éxito.\")\n",
    "\n",
    "# --- Widget de selección múltiple de pozos ---\n",
    "pozo_selector = widgets.SelectMultiple(\n",
    "    options=df['uwi'].dropna().unique(),\n",
    "    description='Pozos:',\n",
    "    layout=Layout(width='50%', height='200px')\n",
    ")\n",
    "\n",
    "# --- Interacción ---\n",
    "interact(analisis, pozos_seleccionados=pozo_selector)\n"
   ]
  }
 ],
 "metadata": {
  "kernelspec": {
   "display_name": "Python 3",
   "language": "python",
   "name": "python3"
  },
  "language_info": {
   "codemirror_mode": {
    "name": "ipython",
    "version": 3
   },
   "file_extension": ".py",
   "mimetype": "text/x-python",
   "name": "python",
   "nbconvert_exporter": "python",
   "pygments_lexer": "ipython3",
   "version": "3.12.1"
  }
 },
 "nbformat": 4,
 "nbformat_minor": 5
}
